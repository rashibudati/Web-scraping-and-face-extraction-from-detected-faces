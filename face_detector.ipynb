{
 "cells": [
  {
   "cell_type": "code",
   "execution_count": 6,
   "metadata": {},
   "outputs": [
    {
     "name": "stdout",
     "output_type": "stream",
     "text": [
      "Collecting opencv-contrib-python\n",
      "  Downloading opencv_contrib_python-4.4.0.42-cp38-cp38-win_amd64.whl (40.2 MB)\n",
      "Requirement already satisfied: numpy>=1.17.3 in c:\\users\\rashi.budati\\anaconda3\\envs\\rashi\\lib\\site-packages (from opencv-contrib-python) (1.18.5)\n",
      "Installing collected packages: opencv-contrib-python\n",
      "Successfully installed opencv-contrib-python-4.4.0.42\n"
     ]
    }
   ],
   "source": [
    "!pip install opencv-contrib-python"
   ]
  },
  {
   "cell_type": "code",
   "execution_count": 1,
   "metadata": {},
   "outputs": [],
   "source": [
    "import os\n",
    "files = [] \n",
    "for i in os.listdir('C:/Users/rashi.budati/Desktop/images_faces/subset'): \n",
    "    if i.endswith('.png'): \n",
    "        files.append(i)"
   ]
  },
  {
   "cell_type": "code",
   "execution_count": 2,
   "metadata": {},
   "outputs": [
    {
     "data": {
      "text/plain": [
       "'maksssksksss0.png'"
      ]
     },
     "execution_count": 2,
     "metadata": {},
     "output_type": "execute_result"
    }
   ],
   "source": [
    "files[0]"
   ]
  },
  {
   "cell_type": "code",
   "execution_count": 3,
   "metadata": {},
   "outputs": [
    {
     "name": "stdout",
     "output_type": "stream",
     "text": [
      "C:/Users/rashi.budati/Desktop/images_faces/subset/maksssksksss9.png\n"
     ]
    }
   ],
   "source": [
    "imagePath = 'C:/Users/rashi.budati/Desktop/images_faces/subset'\n",
    "for i,val in enumerate(files):\n",
    "    name = str(val)\n",
    "    final_path = os.path.join(imagePath + \"/\" + name)\n",
    "print(final_path)\n",
    "# # for i,val in enumerate(files):\n",
    "# #     print(str(val))\n",
    "# image = cv2.imread(final_path)\n",
    "# print(image)"
   ]
  },
  {
   "cell_type": "code",
   "execution_count": 112,
   "metadata": {},
   "outputs": [
    {
     "name": "stdout",
     "output_type": "stream",
     "text": [
      "[INFO] Found 1 Faces!\n",
      "[INFO] Object found. Saving locally.\n",
      "[INFO] Image faces_detected.jpg written to filesystem:  True\n",
      "[INFO] Found 0 Faces!\n",
      "[INFO] Image faces_detected.jpg written to filesystem:  True\n",
      "[INFO] Found 1 Faces!\n",
      "[INFO] Object found. Saving locally.\n",
      "[INFO] Image faces_detected.jpg written to filesystem:  True\n",
      "[INFO] Found 3 Faces!\n",
      "[INFO] Object found. Saving locally.\n",
      "[INFO] Object found. Saving locally.\n",
      "[INFO] Object found. Saving locally.\n",
      "[INFO] Image faces_detected.jpg written to filesystem:  True\n",
      "[INFO] Found 0 Faces!\n",
      "[INFO] Image faces_detected.jpg written to filesystem:  True\n",
      "[INFO] Found 0 Faces!\n",
      "[INFO] Image faces_detected.jpg written to filesystem:  True\n",
      "[INFO] Found 1 Faces!\n",
      "[INFO] Object found. Saving locally.\n",
      "[INFO] Image faces_detected.jpg written to filesystem:  True\n",
      "[INFO] Found 0 Faces!\n",
      "[INFO] Image faces_detected.jpg written to filesystem:  True\n",
      "[INFO] Found 0 Faces!\n",
      "[INFO] Image faces_detected.jpg written to filesystem:  True\n",
      "[INFO] Found 0 Faces!\n",
      "[INFO] Image faces_detected.jpg written to filesystem:  True\n",
      "[INFO] Found 1 Faces!\n",
      "[INFO] Object found. Saving locally.\n",
      "[INFO] Image faces_detected.jpg written to filesystem:  True\n",
      "[INFO] Found 0 Faces!\n",
      "[INFO] Image faces_detected.jpg written to filesystem:  True\n",
      "[INFO] Found 0 Faces!\n",
      "[INFO] Image faces_detected.jpg written to filesystem:  True\n",
      "[INFO] Found 0 Faces!\n",
      "[INFO] Image faces_detected.jpg written to filesystem:  True\n",
      "[INFO] Found 1 Faces!\n",
      "[INFO] Object found. Saving locally.\n",
      "[INFO] Image faces_detected.jpg written to filesystem:  True\n",
      "[INFO] Found 0 Faces!\n",
      "[INFO] Image faces_detected.jpg written to filesystem:  True\n",
      "[INFO] Found 0 Faces!\n",
      "[INFO] Image faces_detected.jpg written to filesystem:  True\n",
      "[INFO] Found 0 Faces!\n",
      "[INFO] Image faces_detected.jpg written to filesystem:  True\n",
      "[INFO] Found 0 Faces!\n",
      "[INFO] Image faces_detected.jpg written to filesystem:  True\n",
      "[INFO] Found 0 Faces!\n",
      "[INFO] Image faces_detected.jpg written to filesystem:  True\n",
      "[INFO] Found 1 Faces!\n",
      "[INFO] Object found. Saving locally.\n",
      "[INFO] Image faces_detected.jpg written to filesystem:  True\n",
      "[INFO] Found 1 Faces!\n",
      "[INFO] Object found. Saving locally.\n",
      "[INFO] Image faces_detected.jpg written to filesystem:  True\n",
      "[INFO] Found 3 Faces!\n",
      "[INFO] Object found. Saving locally.\n",
      "[INFO] Object found. Saving locally.\n",
      "[INFO] Object found. Saving locally.\n",
      "[INFO] Image faces_detected.jpg written to filesystem:  True\n",
      "[INFO] Found 0 Faces!\n",
      "[INFO] Image faces_detected.jpg written to filesystem:  True\n",
      "[INFO] Found 0 Faces!\n",
      "[INFO] Image faces_detected.jpg written to filesystem:  True\n",
      "[INFO] Found 1 Faces!\n",
      "[INFO] Object found. Saving locally.\n",
      "[INFO] Image faces_detected.jpg written to filesystem:  True\n",
      "[INFO] Found 0 Faces!\n",
      "[INFO] Image faces_detected.jpg written to filesystem:  True\n",
      "[INFO] Found 0 Faces!\n",
      "[INFO] Image faces_detected.jpg written to filesystem:  True\n",
      "[INFO] Found 0 Faces!\n",
      "[INFO] Image faces_detected.jpg written to filesystem:  True\n",
      "[INFO] Found 0 Faces!\n",
      "[INFO] Image faces_detected.jpg written to filesystem:  True\n",
      "[INFO] Found 0 Faces!\n",
      "[INFO] Image faces_detected.jpg written to filesystem:  True\n",
      "[INFO] Found 1 Faces!\n",
      "[INFO] Object found. Saving locally.\n",
      "[INFO] Image faces_detected.jpg written to filesystem:  True\n",
      "[INFO] Found 0 Faces!\n",
      "[INFO] Image faces_detected.jpg written to filesystem:  True\n",
      "[INFO] Found 0 Faces!\n",
      "[INFO] Image faces_detected.jpg written to filesystem:  True\n",
      "[INFO] Found 0 Faces!\n",
      "[INFO] Image faces_detected.jpg written to filesystem:  True\n",
      "[INFO] Found 1 Faces!\n",
      "[INFO] Object found. Saving locally.\n",
      "[INFO] Image faces_detected.jpg written to filesystem:  True\n",
      "[INFO] Found 0 Faces!\n",
      "[INFO] Image faces_detected.jpg written to filesystem:  True\n",
      "[INFO] Found 0 Faces!\n",
      "[INFO] Image faces_detected.jpg written to filesystem:  True\n",
      "[INFO] Found 0 Faces!\n",
      "[INFO] Image faces_detected.jpg written to filesystem:  True\n",
      "[INFO] Found 1 Faces!\n",
      "[INFO] Object found. Saving locally.\n",
      "[INFO] Image faces_detected.jpg written to filesystem:  True\n",
      "[INFO] Found 2 Faces!\n",
      "[INFO] Object found. Saving locally.\n",
      "[INFO] Object found. Saving locally.\n",
      "[INFO] Image faces_detected.jpg written to filesystem:  True\n",
      "[INFO] Found 0 Faces!\n",
      "[INFO] Image faces_detected.jpg written to filesystem:  True\n",
      "[INFO] Found 1 Faces!\n",
      "[INFO] Object found. Saving locally.\n",
      "[INFO] Image faces_detected.jpg written to filesystem:  True\n",
      "[INFO] Found 1 Faces!\n",
      "[INFO] Object found. Saving locally.\n",
      "[INFO] Image faces_detected.jpg written to filesystem:  True\n",
      "[INFO] Found 1 Faces!\n",
      "[INFO] Object found. Saving locally.\n",
      "[INFO] Image faces_detected.jpg written to filesystem:  True\n",
      "[INFO] Found 0 Faces!\n",
      "[INFO] Image faces_detected.jpg written to filesystem:  True\n",
      "[INFO] Found 1 Faces!\n",
      "[INFO] Object found. Saving locally.\n",
      "[INFO] Image faces_detected.jpg written to filesystem:  True\n",
      "[INFO] Found 1 Faces!\n",
      "[INFO] Object found. Saving locally.\n",
      "[INFO] Image faces_detected.jpg written to filesystem:  True\n",
      "[INFO] Found 0 Faces!\n",
      "[INFO] Image faces_detected.jpg written to filesystem:  True\n",
      "[INFO] Found 0 Faces!\n",
      "[INFO] Image faces_detected.jpg written to filesystem:  True\n"
     ]
    }
   ],
   "source": [
    "import cv2\n",
    "import sys\n",
    "from pathlib import Path\n",
    "import glob\n",
    "\n",
    "imagePath = 'C:/Users/rashi.budati/Desktop/images_faces/subset'\n",
    "result_path = 'C:/Users/rashi.budati/Desktop/result_face_detector'\n",
    "dsize = (224,224)\n",
    "folderLen = len(imagePath)\n",
    "for img in glob.glob(imagePath + \"/*.png\"):\n",
    "    image = cv2.imread(img)\n",
    "#     output = cv2.resize(image,dsize, interpolation = cv2.INTER_AREA)\n",
    "    gray = cv2.cvtColor(image, cv2.COLOR_BGR2GRAY)\n",
    "\n",
    "    faceCascade = cv2.CascadeClassifier(cv2.data.haarcascades + \"haarcascade_frontalface_default.xml\")\n",
    "    faces = faceCascade.detectMultiScale(\n",
    "        gray,\n",
    "        scaleFactor=1.1,\n",
    "        minNeighbors=5,\n",
    "        minSize=(60, 60),flags=cv2.CASCADE_SCALE_IMAGE\n",
    "    )\n",
    "\n",
    "    print(\"[INFO] Found {0} Faces!\".format(len(faces)))\n",
    "\n",
    "    for (x, y, w, h) in faces:\n",
    "        cv2.rectangle(image, (x, y), (x + w, y + h), (0, 255, 0), 2)\n",
    "        roi_color = image[y:y + h, x:x + w] \n",
    "        print(\"[INFO] Object found. Saving locally.\") \n",
    "        cv2.imwrite('C:/Users/rashi.budati/Desktop/result_face_detector/extracted_faces' + str(w) + str(h) + '_faces.jpg', roi_color)\n",
    "    status = cv2.imwrite(result_path+img[folderLen:], image)\n",
    "    print(\"[INFO] Image faces_detected.jpg written to filesystem: \", status)\n",
    "        \n",
    "\n"
   ]
  },
  {
   "cell_type": "code",
   "execution_count": null,
   "metadata": {},
   "outputs": [],
   "source": []
  }
 ],
 "metadata": {
  "kernelspec": {
   "display_name": "Python 3",
   "language": "python",
   "name": "python3"
  },
  "language_info": {
   "codemirror_mode": {
    "name": "ipython",
    "version": 3
   },
   "file_extension": ".py",
   "mimetype": "text/x-python",
   "name": "python",
   "nbconvert_exporter": "python",
   "pygments_lexer": "ipython3",
   "version": "3.8.5"
  }
 },
 "nbformat": 4,
 "nbformat_minor": 4
}
