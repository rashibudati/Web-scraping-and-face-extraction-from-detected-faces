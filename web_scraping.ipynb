{
 "cells": [
  {
   "cell_type": "code",
   "execution_count": 20,
   "metadata": {},
   "outputs": [
    {
     "name": "stdout",
     "output_type": "stream",
     "text": [
      "Collecting wget\n",
      "  Downloading wget-3.2.zip (10 kB)\n",
      "Building wheels for collected packages: wget\n",
      "  Building wheel for wget (setup.py): started\n",
      "  Building wheel for wget (setup.py): finished with status 'done'\n",
      "  Created wheel for wget: filename=wget-3.2-py3-none-any.whl size=9686 sha256=11671500e059ae6a594741c193edf8886298df33092d55f06ebe13fb50b3adb8\n",
      "  Stored in directory: c:\\users\\rashi.budati\\appdata\\local\\pip\\cache\\wheels\\bd\\a8\\c3\\3cf2c14a1837a4e04bd98631724e81f33f462d86a1d895fae0\n",
      "Successfully built wget\n",
      "Installing collected packages: wget\n",
      "Successfully installed wget-3.2\n"
     ]
    }
   ],
   "source": [
    "!pip install wget"
   ]
  },
  {
   "cell_type": "markdown",
   "metadata": {},
   "source": [
    "## Same code used for scraping faces of people wearing and not wearing mask"
   ]
  },
  {
   "cell_type": "code",
   "execution_count": 29,
   "metadata": {},
   "outputs": [
    {
     "name": "stdout",
     "output_type": "stream",
     "text": [
      "https://image.shutterstock.com/image-photo/full-length-body-size-photo-260nw-1499671700.jpg\n",
      "\n",
      "https://image.shutterstock.com/image-photo/portrait-young-handsome-asian-man-260nw-1698726103.jpg\n",
      "\n",
      "https://image.shutterstock.com/image-photo/photographer-using-his-camera-260nw-183509066.jpg\n",
      "\n",
      "https://image.shutterstock.com/image-photo/young-delivery-man-nedical-mask-260nw-1684048297.jpg\n",
      "\n",
      "https://image.shutterstock.com/image-photo/full-length-side-profile-body-260nw-1716323653.jpg\n",
      "\n",
      "https://image.shutterstock.com/image-photo/over-gray-background-photos-diverse-260nw-1707364642.jpg\n",
      "\n",
      "https://image.shutterstock.com/image-photo/full-length-body-size-photo-260nw-1483152035.jpg\n",
      "\n",
      "https://image.shutterstock.com/image-photo/full-body-photo-pair-lady-260nw-1522123850.jpg\n",
      "\n",
      "https://image.shutterstock.com/image-photo/full-size-photo-cool-stylish-260nw-1722715165.jpg\n",
      "\n",
      "https://image.shutterstock.com/image-photo/photographer-photographing-outdoors-shooting-urban-260nw-1674146494.jpg\n",
      "\n",
      "https://image.shutterstock.com/image-photo/close-photo-charming-guy-entrepreneur-260nw-1531460651.jpg\n",
      "\n",
      "https://image.shutterstock.com/image-photo/portrait-smiling-african-american-student-260nw-1194497215.jpg\n",
      "\n",
      "https://image.shutterstock.com/image-photo/joyful-shorthaired-guy-jumping-on-260nw-1341477908.jpg\n",
      "\n",
      "https://image.shutterstock.com/image-photo/on-gray-background-photos-five-260nw-1704188830.jpg\n",
      "\n",
      "https://image.shutterstock.com/image-vector/happy-young-couple-make-selfie-260nw-1797911953.jpg\n",
      "\n",
      "https://image.shutterstock.com/image-photo/photo-attractive-macho-guy-perfect-260nw-1577559109.jpg\n",
      "\n",
      "https://image.shutterstock.com/image-photo/back-view-adult-man-taking-260nw-1101216917.jpg\n",
      "\n",
      "https://image.shutterstock.com/image-photo/selfie-photo-full-length-portrait-260nw-259372262.jpg\n",
      "\n",
      "https://image.shutterstock.com/image-photo/photo-wife-beautiful-mother-lady-260nw-1747168085.jpg\n",
      "\n",
      "https://image.shutterstock.com/image-photo/my-parents-crazy-music-lovers-260nw-1130415878.jpg\n",
      "\n"
     ]
    }
   ],
   "source": [
    "from urllib.request import urlopen\n",
    "from bs4 import BeautifulSoup\n",
    "import re\n",
    "\n",
    "image_url = []\n",
    "html = urlopen('https://www.shutterstock.com/search/guys+photos?page=2')\n",
    "bs = BeautifulSoup(html, 'html.parser')\n",
    "images = bs.find_all('img', {'src':re.compile('.jpg')})\n",
    "for image in images: \n",
    "    print(image['src']+'\\n')\n",
    "    image_url.append(image['src'])\n",
    "    "
   ]
  },
  {
   "cell_type": "code",
   "execution_count": 30,
   "metadata": {},
   "outputs": [
    {
     "data": {
      "text/plain": [
       "['https://image.shutterstock.com/image-photo/full-length-body-size-photo-260nw-1499671700.jpg',\n",
       " 'https://image.shutterstock.com/image-photo/portrait-young-handsome-asian-man-260nw-1698726103.jpg',\n",
       " 'https://image.shutterstock.com/image-photo/photographer-using-his-camera-260nw-183509066.jpg',\n",
       " 'https://image.shutterstock.com/image-photo/young-delivery-man-nedical-mask-260nw-1684048297.jpg',\n",
       " 'https://image.shutterstock.com/image-photo/full-length-side-profile-body-260nw-1716323653.jpg',\n",
       " 'https://image.shutterstock.com/image-photo/over-gray-background-photos-diverse-260nw-1707364642.jpg',\n",
       " 'https://image.shutterstock.com/image-photo/full-length-body-size-photo-260nw-1483152035.jpg',\n",
       " 'https://image.shutterstock.com/image-photo/full-body-photo-pair-lady-260nw-1522123850.jpg',\n",
       " 'https://image.shutterstock.com/image-photo/full-size-photo-cool-stylish-260nw-1722715165.jpg',\n",
       " 'https://image.shutterstock.com/image-photo/photographer-photographing-outdoors-shooting-urban-260nw-1674146494.jpg',\n",
       " 'https://image.shutterstock.com/image-photo/close-photo-charming-guy-entrepreneur-260nw-1531460651.jpg',\n",
       " 'https://image.shutterstock.com/image-photo/portrait-smiling-african-american-student-260nw-1194497215.jpg',\n",
       " 'https://image.shutterstock.com/image-photo/joyful-shorthaired-guy-jumping-on-260nw-1341477908.jpg',\n",
       " 'https://image.shutterstock.com/image-photo/on-gray-background-photos-five-260nw-1704188830.jpg',\n",
       " 'https://image.shutterstock.com/image-vector/happy-young-couple-make-selfie-260nw-1797911953.jpg',\n",
       " 'https://image.shutterstock.com/image-photo/photo-attractive-macho-guy-perfect-260nw-1577559109.jpg',\n",
       " 'https://image.shutterstock.com/image-photo/back-view-adult-man-taking-260nw-1101216917.jpg',\n",
       " 'https://image.shutterstock.com/image-photo/selfie-photo-full-length-portrait-260nw-259372262.jpg',\n",
       " 'https://image.shutterstock.com/image-photo/photo-wife-beautiful-mother-lady-260nw-1747168085.jpg',\n",
       " 'https://image.shutterstock.com/image-photo/my-parents-crazy-music-lovers-260nw-1130415878.jpg']"
      ]
     },
     "execution_count": 30,
     "metadata": {},
     "output_type": "execute_result"
    }
   ],
   "source": [
    "image_url"
   ]
  },
  {
   "cell_type": "code",
   "execution_count": 34,
   "metadata": {},
   "outputs": [
    {
     "name": "stdout",
     "output_type": "stream",
     "text": [
      "100% [................................................................................] 8432 / 8432Image Successfully Downloaded:  full-length-body-size-photo-260nw-1499671700 (1).jpg\n",
      "100% [..............................................................................] 16876 / 16876Image Successfully Downloaded:  portrait-young-handsome-asian-man-260nw-1698726103.jpg\n",
      "100% [..............................................................................] 22424 / 22424Image Successfully Downloaded:  photographer-using-his-camera-260nw-183509066.jpg\n",
      "100% [..............................................................................] 13997 / 13997Image Successfully Downloaded:  young-delivery-man-nedical-mask-260nw-1684048297.jpg\n",
      "100% [................................................................................] 8342 / 8342Image Successfully Downloaded:  full-length-side-profile-body-260nw-1716323653.jpg\n",
      "100% [..............................................................................] 17736 / 17736Image Successfully Downloaded:  over-gray-background-photos-diverse-260nw-1707364642.jpg\n",
      "100% [..............................................................................] 10577 / 10577Image Successfully Downloaded:  full-length-body-size-photo-260nw-1483152035.jpg\n",
      "100% [..............................................................................] 11649 / 11649Image Successfully Downloaded:  full-body-photo-pair-lady-260nw-1522123850.jpg\n",
      "100% [..............................................................................] 13096 / 13096Image Successfully Downloaded:  full-size-photo-cool-stylish-260nw-1722715165.jpg\n",
      "100% [..............................................................................] 19461 / 19461Image Successfully Downloaded:  photographer-photographing-outdoors-shooting-urban-260nw-1674146494.jpg\n",
      "100% [..............................................................................] 11638 / 11638Image Successfully Downloaded:  close-photo-charming-guy-entrepreneur-260nw-1531460651.jpg\n",
      "100% [..............................................................................] 22047 / 22047Image Successfully Downloaded:  portrait-smiling-african-american-student-260nw-1194497215.jpg\n",
      "100% [................................................................................] 8858 / 8858Image Successfully Downloaded:  joyful-shorthaired-guy-jumping-on-260nw-1341477908.jpg\n",
      "100% [..............................................................................] 18084 / 18084Image Successfully Downloaded:  on-gray-background-photos-five-260nw-1704188830.jpg\n",
      "100% [..............................................................................] 24513 / 24513Image Successfully Downloaded:  happy-young-couple-make-selfie-260nw-1797911953.jpg\n",
      "100% [..............................................................................] 10497 / 10497Image Successfully Downloaded:  photo-attractive-macho-guy-perfect-260nw-1577559109.jpg\n",
      "100% [................................................................................] 4776 / 4776Image Successfully Downloaded:  back-view-adult-man-taking-260nw-1101216917.jpg\n",
      "100% [................................................................................] 6871 / 6871Image Successfully Downloaded:  selfie-photo-full-length-portrait-260nw-259372262.jpg\n",
      "100% [..............................................................................] 19283 / 19283Image Successfully Downloaded:  photo-wife-beautiful-mother-lady-260nw-1747168085.jpg\n",
      "100% [..............................................................................] 25119 / 25119Image Successfully Downloaded:  my-parents-crazy-music-lovers-260nw-1130415878.jpg\n"
     ]
    }
   ],
   "source": [
    "# First import wget python module.\n",
    "import wget\n",
    "\n",
    "# Set up the image URL\n",
    "for i,val in enumerate(image_url):\n",
    "    image_ur = str(val)\n",
    "    image_filename = wget.download(image_ur)\n",
    "    print('Image Successfully Downloaded: ', image_filename)\n"
   ]
  },
  {
   "cell_type": "code",
   "execution_count": null,
   "metadata": {},
   "outputs": [],
   "source": []
  }
 ],
 "metadata": {
  "kernelspec": {
   "display_name": "Python 3",
   "language": "python",
   "name": "python3"
  },
  "language_info": {
   "codemirror_mode": {
    "name": "ipython",
    "version": 3
   },
   "file_extension": ".py",
   "mimetype": "text/x-python",
   "name": "python",
   "nbconvert_exporter": "python",
   "pygments_lexer": "ipython3",
   "version": "3.8.5"
  }
 },
 "nbformat": 4,
 "nbformat_minor": 4
}
